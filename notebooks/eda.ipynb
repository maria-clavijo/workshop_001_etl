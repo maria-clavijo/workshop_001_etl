{
 "cells": [
  {
   "cell_type": "markdown",
   "metadata": {},
   "source": [
    "# EDA"
   ]
  },
  {
   "cell_type": "code",
   "execution_count": 1,
   "metadata": {},
   "outputs": [],
   "source": [
    "# Import Libraries\n",
    "import configparser\n",
    "import mysql.connector\n",
    "import matplotlib.pyplot as plt\n",
    "import numpy as np\n",
    "import pandas as pd"
   ]
  },
  {
   "cell_type": "code",
   "execution_count": 2,
   "metadata": {},
   "outputs": [
    {
     "name": "stdout",
     "output_type": "stream",
     "text": [
      "¡Connected to the database!\n"
     ]
    }
   ],
   "source": [
    "# Connect to the MySQL database\n",
    "\n",
    "config = configparser.ConfigParser()\n",
    "config.read('../scripts/db_config.ini')\n",
    "\n",
    "host = config['mysql']['host']\n",
    "user = config['mysql']['user']\n",
    "password = config['mysql']['password']\n",
    "\n",
    "connection = mysql.connector.connect(\n",
    "    host=host,\n",
    "    user=user,\n",
    "    password=password\n",
    ")\n",
    "\n",
    "print(\"¡Connected to the database!\")\n",
    "cursor = connection.cursor()"
   ]
  },
  {
   "cell_type": "code",
   "execution_count": 3,
   "metadata": {},
   "outputs": [
    {
     "name": "stderr",
     "output_type": "stream",
     "text": [
      "C:\\Users\\Maria Jose\\AppData\\Local\\Temp\\ipykernel_8908\\2562221584.py:6: UserWarning: pandas only supports SQLAlchemy connectable (engine/connection) or database string URI or sqlite3 DBAPI2 connection. Other DBAPI2 objects are not tested. Please consider using SQLAlchemy.\n",
      "  df_db = pd.read_sql(query_table, connection)\n"
     ]
    },
    {
     "data": {
      "text/html": [
       "<div>\n",
       "<style scoped>\n",
       "    .dataframe tbody tr th:only-of-type {\n",
       "        vertical-align: middle;\n",
       "    }\n",
       "\n",
       "    .dataframe tbody tr th {\n",
       "        vertical-align: top;\n",
       "    }\n",
       "\n",
       "    .dataframe thead th {\n",
       "        text-align: right;\n",
       "    }\n",
       "</style>\n",
       "<table border=\"1\" class=\"dataframe\">\n",
       "  <thead>\n",
       "    <tr style=\"text-align: right;\">\n",
       "      <th></th>\n",
       "      <th>candidate_id</th>\n",
       "      <th>first_name</th>\n",
       "      <th>last_name</th>\n",
       "      <th>email</th>\n",
       "      <th>application_date</th>\n",
       "      <th>country</th>\n",
       "      <th>yoe</th>\n",
       "      <th>seniority</th>\n",
       "      <th>technology</th>\n",
       "      <th>code_challenge_score</th>\n",
       "      <th>technical_interview_score</th>\n",
       "    </tr>\n",
       "  </thead>\n",
       "  <tbody>\n",
       "    <tr>\n",
       "      <th>0</th>\n",
       "      <td>1</td>\n",
       "      <td>Bernadette</td>\n",
       "      <td>Langworth</td>\n",
       "      <td>leonard91@yahoo.com</td>\n",
       "      <td>2021-02-26</td>\n",
       "      <td>Norway</td>\n",
       "      <td>2</td>\n",
       "      <td>Intern</td>\n",
       "      <td>Data Engineer</td>\n",
       "      <td>3</td>\n",
       "      <td>3</td>\n",
       "    </tr>\n",
       "    <tr>\n",
       "      <th>1</th>\n",
       "      <td>2</td>\n",
       "      <td>Camryn</td>\n",
       "      <td>Reynolds</td>\n",
       "      <td>zelda56@hotmail.com</td>\n",
       "      <td>2021-09-09</td>\n",
       "      <td>Panama</td>\n",
       "      <td>10</td>\n",
       "      <td>Intern</td>\n",
       "      <td>Data Engineer</td>\n",
       "      <td>2</td>\n",
       "      <td>10</td>\n",
       "    </tr>\n",
       "    <tr>\n",
       "      <th>2</th>\n",
       "      <td>3</td>\n",
       "      <td>Larue</td>\n",
       "      <td>Spinka</td>\n",
       "      <td>okey_schultz41@gmail.com</td>\n",
       "      <td>2020-04-14</td>\n",
       "      <td>Belarus</td>\n",
       "      <td>4</td>\n",
       "      <td>Mid-Level</td>\n",
       "      <td>Client Success</td>\n",
       "      <td>10</td>\n",
       "      <td>9</td>\n",
       "    </tr>\n",
       "    <tr>\n",
       "      <th>3</th>\n",
       "      <td>4</td>\n",
       "      <td>Arch</td>\n",
       "      <td>Spinka</td>\n",
       "      <td>elvera_kulas@yahoo.com</td>\n",
       "      <td>2020-10-01</td>\n",
       "      <td>Eritrea</td>\n",
       "      <td>25</td>\n",
       "      <td>Trainee</td>\n",
       "      <td>QA Manual</td>\n",
       "      <td>7</td>\n",
       "      <td>1</td>\n",
       "    </tr>\n",
       "    <tr>\n",
       "      <th>4</th>\n",
       "      <td>5</td>\n",
       "      <td>Larue</td>\n",
       "      <td>Altenwerth</td>\n",
       "      <td>minnie.gislason@gmail.com</td>\n",
       "      <td>2020-05-20</td>\n",
       "      <td>Myanmar</td>\n",
       "      <td>13</td>\n",
       "      <td>Mid-Level</td>\n",
       "      <td>Social Media Community Management</td>\n",
       "      <td>9</td>\n",
       "      <td>7</td>\n",
       "    </tr>\n",
       "  </tbody>\n",
       "</table>\n",
       "</div>"
      ],
      "text/plain": [
       "   candidate_id  first_name   last_name                      email  \\\n",
       "0             1  Bernadette   Langworth        leonard91@yahoo.com   \n",
       "1             2      Camryn    Reynolds        zelda56@hotmail.com   \n",
       "2             3       Larue      Spinka   okey_schultz41@gmail.com   \n",
       "3             4        Arch      Spinka     elvera_kulas@yahoo.com   \n",
       "4             5       Larue  Altenwerth  minnie.gislason@gmail.com   \n",
       "\n",
       "  application_date  country  yoe  seniority  \\\n",
       "0       2021-02-26   Norway    2     Intern   \n",
       "1       2021-09-09   Panama   10     Intern   \n",
       "2       2020-04-14  Belarus    4  Mid-Level   \n",
       "3       2020-10-01  Eritrea   25    Trainee   \n",
       "4       2020-05-20  Myanmar   13  Mid-Level   \n",
       "\n",
       "                          technology  code_challenge_score  \\\n",
       "0                      Data Engineer                     3   \n",
       "1                      Data Engineer                     2   \n",
       "2                     Client Success                    10   \n",
       "3                          QA Manual                     7   \n",
       "4  Social Media Community Management                     9   \n",
       "\n",
       "   technical_interview_score  \n",
       "0                          3  \n",
       "1                         10  \n",
       "2                          9  \n",
       "3                          1  \n",
       "4                          7  "
      ]
     },
     "execution_count": 3,
     "metadata": {},
     "output_type": "execute_result"
    }
   ],
   "source": [
    "# Select the \"dbcandidates\" database and do the SQL query to bring the data from the \"candidates\" table. Read the data in a dataframe\n",
    "\n",
    "cursor.execute(\"USE dbcandidates\")\n",
    "query_table = \"SELECT * FROM candidates\"\n",
    "\n",
    "df_db = pd.read_sql(query_table, connection)\n",
    "\n",
    "df_db.head()\n"
   ]
  },
  {
   "cell_type": "code",
   "execution_count": 4,
   "metadata": {},
   "outputs": [
    {
     "name": "stdout",
     "output_type": "stream",
     "text": [
      "<class 'pandas.core.frame.DataFrame'>\n",
      "RangeIndex: 50000 entries, 0 to 49999\n",
      "Data columns (total 11 columns):\n",
      " #   Column                     Non-Null Count  Dtype \n",
      "---  ------                     --------------  ----- \n",
      " 0   candidate_id               50000 non-null  int64 \n",
      " 1   first_name                 50000 non-null  object\n",
      " 2   last_name                  50000 non-null  object\n",
      " 3   email                      50000 non-null  object\n",
      " 4   application_date           50000 non-null  object\n",
      " 5   country                    50000 non-null  object\n",
      " 6   yoe                        50000 non-null  int64 \n",
      " 7   seniority                  50000 non-null  object\n",
      " 8   technology                 50000 non-null  object\n",
      " 9   code_challenge_score       50000 non-null  int64 \n",
      " 10  technical_interview_score  50000 non-null  int64 \n",
      "dtypes: int64(4), object(7)\n",
      "memory usage: 4.2+ MB\n"
     ]
    }
   ],
   "source": [
    "df_db.info()"
   ]
  },
  {
   "cell_type": "code",
   "execution_count": 5,
   "metadata": {},
   "outputs": [
    {
     "name": "stdout",
     "output_type": "stream",
     "text": [
      "candidate_id                 0\n",
      "first_name                   0\n",
      "last_name                    0\n",
      "email                        0\n",
      "application_date             0\n",
      "country                      0\n",
      "yoe                          0\n",
      "seniority                    0\n",
      "technology                   0\n",
      "code_challenge_score         0\n",
      "technical_interview_score    0\n",
      "dtype: int64\n"
     ]
    }
   ],
   "source": [
    "null_columns = df_db.isnull().sum()\n",
    "print(null_columns)\n"
   ]
  },
  {
   "cell_type": "code",
   "execution_count": 6,
   "metadata": {},
   "outputs": [
    {
     "name": "stdout",
     "output_type": "stream",
     "text": [
      "Unique values per column:\n",
      "candidate_id                 50000\n",
      "first_name                    3007\n",
      "last_name                      474\n",
      "email                        49833\n",
      "application_date              1646\n",
      "country                        244\n",
      "yoe                             31\n",
      "seniority                        7\n",
      "technology                      24\n",
      "code_challenge_score            11\n",
      "technical_interview_score       11\n",
      "dtype: int64\n"
     ]
    }
   ],
   "source": [
    "unique_values = df_db.nunique()\n",
    "print(\"Unique values per column:\")\n",
    "print(unique_values)"
   ]
  },
  {
   "cell_type": "code",
   "execution_count": 7,
   "metadata": {},
   "outputs": [
    {
     "name": "stdout",
     "output_type": "stream",
     "text": [
      "       code_challenge_score  technical_interview_score           yoe\n",
      "count          50000.000000               50000.000000  50000.000000\n",
      "mean               4.996400                   5.003880     15.286980\n",
      "std                3.166896                   3.165082      8.830652\n",
      "min                0.000000                   0.000000      0.000000\n",
      "25%                2.000000                   2.000000      8.000000\n",
      "50%                5.000000                   5.000000     15.000000\n",
      "75%                8.000000                   8.000000     23.000000\n",
      "max               10.000000                  10.000000     30.000000\n"
     ]
    }
   ],
   "source": [
    "# descriptive statistics\n",
    "\n",
    "columns_statistics = [\"code_challenge_score\", \"technical_interview_score\", \"yoe\"]\n",
    "\n",
    "description = df_db[columns_statistics].describe()\n",
    "print(description)\n"
   ]
  },
  {
   "cell_type": "code",
   "execution_count": 8,
   "metadata": {},
   "outputs": [
    {
     "name": "stdout",
     "output_type": "stream",
     "text": [
      "   candidate_id  first_name   last_name                      email  \\\n",
      "0             1  Bernadette   Langworth        leonard91@yahoo.com   \n",
      "1             2      Camryn    Reynolds        zelda56@hotmail.com   \n",
      "2             3       Larue      Spinka   okey_schultz41@gmail.com   \n",
      "3             4        Arch      Spinka     elvera_kulas@yahoo.com   \n",
      "4             5       Larue  Altenwerth  minnie.gislason@gmail.com   \n",
      "\n",
      "  application_date  country  yoe  seniority  \\\n",
      "0       2021-02-26   Norway    2     Intern   \n",
      "1       2021-09-09   Panama   10     Intern   \n",
      "2       2020-04-14  Belarus    4  Mid-Level   \n",
      "3       2020-10-01  Eritrea   25    Trainee   \n",
      "4       2020-05-20  Myanmar   13  Mid-Level   \n",
      "\n",
      "                          technology  code_challenge_score  \\\n",
      "0                      Data Engineer                     3   \n",
      "1                      Data Engineer                     2   \n",
      "2                     Client Success                    10   \n",
      "3                          QA Manual                     7   \n",
      "4  Social Media Community Management                     9   \n",
      "\n",
      "   technical_interview_score hired  \n",
      "0                          3    no  \n",
      "1                         10    no  \n",
      "2                          9   yes  \n",
      "3                          1    no  \n",
      "4                          7   yes  \n"
     ]
    }
   ],
   "source": [
    "# Create the hiring column\n",
    "\n",
    "df_db[\"hired\"] = np.where((df_db[\"code_challenge_score\"] >= 7) & (df_db[\"technical_interview_score\"] >= 7), \"yes\", \"no\")\n",
    "\n",
    "print(df_db.head())\n"
   ]
  },
  {
   "cell_type": "code",
   "execution_count": 9,
   "metadata": {},
   "outputs": [
    {
     "data": {
      "image/png": "[encoded data removed]",
      "text/plain": [
       "<Figure size 640x480 with 1 Axes>"
      ]
     },
     "metadata": {},
     "output_type": "display_data"
    }
   ],
   "source": [
    "# Graphic of candidates hired\n",
    "\n",
    "hires_count = df_db['hired'].value_counts()\n",
    "\n",
    "plt.bar(hires_count.index, hires_count.values, color=['#520120', '#1DBC67'])\n",
    "for i, valor in enumerate(hires_count.values):\n",
    "    plt.text(i, valor, str(valor), ha='center', va='bottom')\n",
    "\n",
    "plt.title('Candidates recruited vs not recruited')\n",
    "plt.xlabel('Hired')\n",
    "plt.ylabel('Quantity')\n",
    "plt.show()\n"
   ]
  },
  {
   "cell_type": "code",
   "execution_count": 10,
   "metadata": {},
   "outputs": [
    {
     "name": "stdout",
     "output_type": "stream",
     "text": [
      "['Data Engineer' 'Client Success' 'QA Manual'\n",
      " 'Social Media Community Management' 'Adobe Experience Manager' 'Sales'\n",
      " 'Mulesoft' 'DevOps' 'Development - CMS Backend' 'Salesforce'\n",
      " 'System Administration' 'Security' 'Game Development'\n",
      " 'Development - CMS Frontend' 'Security Compliance'\n",
      " 'Development - Backend' 'Design'\n",
      " 'Business Analytics / Project Management' 'Development - Frontend'\n",
      " 'Development - FullStack' 'Business Intelligence'\n",
      " 'Database Administration' 'QA Automation' 'Technical Writing']\n"
     ]
    }
   ],
   "source": [
    "# Unique values by technology\n",
    "\n",
    "unique_technology = df_db[\"technology\"].unique()\n",
    "print(unique_technology)"
   ]
  },
  {
   "cell_type": "code",
   "execution_count": 11,
   "metadata": {},
   "outputs": [
    {
     "name": "stdout",
     "output_type": "stream",
     "text": [
      "['Project and Data Management' 'Customer and Sales Management'\n",
      " 'QA Testing' 'Community Management and Design'\n",
      " 'Management of Platforms and Tools'\n",
      " 'Operations and System Administration' 'Software Development' 'Security']\n"
     ]
    }
   ],
   "source": [
    "# Create a column to group technologies into categories\n",
    "\n",
    "category_technology = {\n",
    "    'Data Engineer': 'Project and Data Management',\n",
    "    'Client Success': 'Customer and Sales Management',\n",
    "    'QA Manual': 'QA Testing',\n",
    "    'Social Media Community Management': 'Community Management and Design',\n",
    "    'Adobe Experience Manager': 'Management of Platforms and Tools',\n",
    "    'Sales': 'Customer and Sales Management',\n",
    "    'Mulesoft': 'Management of Platforms and Tools',\n",
    "    'DevOps': 'Operations and System Administration',\n",
    "    'Development - CMS Backend': 'Software Development',\n",
    "    'Salesforce': 'Customer and Sales Management',\n",
    "    'System Administration': 'Operations and System Administration',\n",
    "    'Security': 'Security',\n",
    "    'Game Development': 'Software Development',\n",
    "    'Development - CMS Frontend': 'Software Development',\n",
    "    'Security Compliance': 'Security',\n",
    "    'Development - Backend': 'Software Development',\n",
    "    'Design': 'Community Management and Design',\n",
    "    'Business Analytics / Project Management': 'Project and Data Management',\n",
    "    'Development - Frontend': 'Software Development',\n",
    "    'Development - FullStack': 'Software Development',\n",
    "    'Business Intelligence': 'Project and Data Management',\n",
    "    'Database Administration': 'Project and Data Management',\n",
    "    'QA Automation': 'QA Testing',\n",
    "    'Technical Writing': 'Project and Data Management'\n",
    "}\n",
    "\n",
    "df_db['category_technology'] = df_db['technology'].apply(lambda x: category_technology.get(x, 'Other'))\n",
    "\n",
    "print(df_db[\"category_technology\"].unique())\n"
   ]
  },
  {
   "cell_type": "code",
   "execution_count": 12,
   "metadata": {},
   "outputs": [
    {
     "name": "stdout",
     "output_type": "stream",
     "text": [
      "['Intern' 'Mid-Level' 'Trainee' 'Junior' 'Lead' 'Architect' 'Senior']\n"
     ]
    }
   ],
   "source": [
    "# Unique values by seniority\n",
    "\n",
    "print(df_db[\"seniority\"].unique())"
   ]
  },
  {
   "cell_type": "code",
   "execution_count": 13,
   "metadata": {},
   "outputs": [
    {
     "name": "stdout",
     "output_type": "stream",
     "text": [
      "['Norway' 'Panama' 'Belarus' 'Eritrea' 'Myanmar' 'Zimbabwe'\n",
      " 'Wallis and Futuna' 'Italy' 'Timor-Leste' 'Armenia'\n",
      " 'French Southern Territories' 'Chad' 'El Salvador' 'Mozambique'\n",
      " 'Brunei Darussalam' 'Morocco' 'Saint Helena' 'Portugal'\n",
      " 'Central African Republic' 'Seychelles' 'Dominica' 'Finland' 'Belgium'\n",
      " 'Niue' 'Japan' 'Palestinian Territory' 'Faroe Islands' 'Latvia'\n",
      " 'Saudi Arabia' 'Poland' 'Micronesia' 'Macao' 'Bangladesh' 'Taiwan'\n",
      " 'Slovakia (Slovak Republic)' 'Mexico' 'Nigeria' 'Guadeloupe'\n",
      " 'Bosnia and Herzegovina' 'Guyana' 'Croatia'\n",
      " 'Svalbard & Jan Mayen Islands' 'Yemen' 'Ukraine' 'Zambia' 'Paraguay'\n",
      " 'Puerto Rico' 'Madagascar' 'Bulgaria' 'Jersey' 'French Polynesia'\n",
      " 'United States of America' 'Mali' 'Anguilla'\n",
      " 'Holy See (Vatican City State)' 'Andorra' 'Republic of Korea' 'Turkey'\n",
      " 'Heard Island and McDonald Islands' 'Malta' 'Liechtenstein'\n",
      " 'Equatorial Guinea' 'Algeria' 'Falkland Islands (Malvinas)' 'Ecuador'\n",
      " 'Jamaica' 'San Marino' 'Malawi' 'Albania' 'Guinea-Bissau' 'Brazil'\n",
      " 'Cyprus' 'Botswana' 'Kiribati' 'Estonia' 'Nepal' 'Cook Islands'\n",
      " \"Lao People's Democratic Republic\" 'Vanuatu' 'Mauritania' 'Nauru'\n",
      " 'Trinidad and Tobago' 'Gibraltar' 'Pitcairn Islands' 'Montenegro'\n",
      " 'Antarctica (the territory South of 60 deg S)' 'Sudan' 'Honduras'\n",
      " 'Cayman Islands' 'France' 'Virgin Islands British' 'Iran' 'Barbados'\n",
      " 'Turks and Caicos Islands' 'Malaysia' 'Austria' 'Burkina Faso' 'Moldova'\n",
      " 'Serbia' 'Indonesia' 'United Kingdom' 'Haiti' 'Hong Kong'\n",
      " 'British Indian Ocean Territory (Chagos Archipelago)' 'Denmark' 'Tunisia'\n",
      " 'Bhutan' 'Kyrgyz Republic' 'Afghanistan' 'Grenada' 'Maldives' 'Togo'\n",
      " 'Congo' 'Belize' \"Cote d'Ivoire\" 'Marshall Islands' 'Guam' 'Ghana'\n",
      " 'American Samoa' 'Israel' 'Libyan Arab Jamahiriya' 'Lesotho' 'Samoa'\n",
      " 'Kenya' 'Saint Pierre and Miquelon' 'Jordan' 'Bahamas' 'Bahrain'\n",
      " 'Nicaragua' 'Djibouti' 'Saint Lucia' 'Kazakhstan' 'Tonga' 'Angola'\n",
      " 'Saint Martin' 'Reunion' 'Niger' 'United States Minor Outlying Islands'\n",
      " 'Antigua and Barbuda' \"Democratic People's Republic of Korea\" 'Thailand'\n",
      " 'Philippines' 'Western Sahara' 'Bermuda' 'Gambia' 'Virgin Islands U.S.'\n",
      " 'Slovenia' 'Turkmenistan' 'Montserrat' 'Saint Barthelemy' 'Senegal'\n",
      " 'Saint Kitts and Nevis' 'Mauritius' 'Rwanda' 'China' 'Tokelau' 'Greece'\n",
      " 'Papua New Guinea' 'Fiji' 'Cuba' 'Australia' 'Egypt' 'Mongolia' 'Namibia'\n",
      " 'Iceland' 'Guatemala' 'Solomon Islands' 'Tanzania' 'Sweden' 'Swaziland'\n",
      " 'Saint Vincent and the Grenadines' 'Sierra Leone' 'Somalia' 'Oman'\n",
      " 'Argentina' 'Bolivia' 'Luxembourg' 'Venezuela' 'Macedonia'\n",
      " 'Netherlands Antilles' 'Syrian Arab Republic' 'Qatar'\n",
      " 'United Arab Emirates' 'Sri Lanka' 'New Caledonia' 'Comoros' 'Uzbekistan'\n",
      " 'Cocos (Keeling) Islands' 'Azerbaijan' 'Russian Federation' 'Chile'\n",
      " 'Cambodia' 'Czech Republic' 'Martinique' 'Guinea' 'Singapore' 'Colombia'\n",
      " 'Germany' 'Aruba' 'Kuwait' 'Cape Verde' 'Burundi' 'Liberia'\n",
      " 'Norfolk Island' 'Pakistan' 'Isle of Man' 'Ireland'\n",
      " 'Northern Mariana Islands' 'Bouvet Island (Bouvetoya)' 'Greenland'\n",
      " 'Costa Rica' 'Netherlands' 'South Africa' 'Canada' 'Lebanon'\n",
      " 'New Zealand' 'Uruguay' 'Dominican Republic' 'Lithuania' 'Ethiopia'\n",
      " 'Cameroon' 'Iraq' 'India' 'Guernsey' 'Peru' 'Tajikistan' 'Vietnam'\n",
      " 'Palau' 'Monaco' 'French Guiana'\n",
      " 'South Georgia and the South Sandwich Islands' 'Spain' 'Christmas Island'\n",
      " 'Tuvalu' 'Georgia' 'Switzerland' 'Suriname' 'Hungary' 'Gabon'\n",
      " 'Sao Tome and Principe' 'Mayotte' 'Benin' 'Uganda' 'Romania']\n"
     ]
    }
   ],
   "source": [
    "# Unique values by country\n",
    "\n",
    "print(df_db[\"country\"].unique())"
   ]
  },
  {
   "cell_type": "code",
   "execution_count": 14,
   "metadata": {},
   "outputs": [
    {
     "name": "stdout",
     "output_type": "stream",
     "text": [
      "   candidate_id  first_name   last_name                      email  \\\n",
      "0             1  Bernadette   Langworth        leonard91@yahoo.com   \n",
      "1             2      Camryn    Reynolds        zelda56@hotmail.com   \n",
      "2             3       Larue      Spinka   okey_schultz41@gmail.com   \n",
      "3             4        Arch      Spinka     elvera_kulas@yahoo.com   \n",
      "4             5       Larue  Altenwerth  minnie.gislason@gmail.com   \n",
      "\n",
      "  application_date  country  yoe  seniority  \\\n",
      "0       2021-02-26   Norway    2     Intern   \n",
      "1       2021-09-09   Panama   10     Intern   \n",
      "2       2020-04-14  Belarus    4  Mid-Level   \n",
      "3       2020-10-01  Eritrea   25    Trainee   \n",
      "4       2020-05-20  Myanmar   13  Mid-Level   \n",
      "\n",
      "                          technology  code_challenge_score  \\\n",
      "0                      Data Engineer                     3   \n",
      "1                      Data Engineer                     2   \n",
      "2                     Client Success                    10   \n",
      "3                          QA Manual                     7   \n",
      "4  Social Media Community Management                     9   \n",
      "\n",
      "   technical_interview_score hired              category_technology  \n",
      "0                          3    no      Project and Data Management  \n",
      "1                         10    no      Project and Data Management  \n",
      "2                          9   yes    Customer and Sales Management  \n",
      "3                          1    no                       QA Testing  \n",
      "4                          7   yes  Community Management and Design  \n"
     ]
    }
   ],
   "source": [
    "print(df_db.head())"
   ]
  },
  {
   "cell_type": "code",
   "execution_count": 15,
   "metadata": {},
   "outputs": [],
   "source": [
    "# Create a new table to keep the candidates hired and technology categories\n",
    "\n",
    "new_table_query = \"\"\"\n",
    "    CREATE TABLE IF NOT EXISTS candidates_hired (\n",
    "        candidate_id INT AUTO_INCREMENT PRIMARY KEY,\n",
    "        first_name VARCHAR(100),\n",
    "        last_name VARCHAR(100),\n",
    "        email VARCHAR(200),\n",
    "        application_date DATE,\n",
    "        country VARCHAR(100),\n",
    "        yoe INT,\n",
    "        seniority VARCHAR(100),\n",
    "        technology VARCHAR(200),\n",
    "        code_challenge_score INT,\n",
    "        technical_interview_score INT,\n",
    "        hired ENUM('yes', 'no'),\n",
    "        category_technology VARCHAR(200)\n",
    "    )\n",
    "\"\"\"\n",
    "\n",
    "cursor.execute(new_table_query)\n",
    "\n",
    "\n",
    "column = df_db.columns \n",
    "\n",
    "query2_insert = \"INSERT INTO candidates_hired ({}) VALUES ({})\".format(\n",
    "    ', '.join(column),\n",
    "    ', '.join(['%s'] * len(column))\n",
    ")\n",
    "\n",
    "values_row = [tuple(row) for row in df_db.values]\n",
    "cursor.executemany(query2_insert, values_row)\n",
    "\n",
    "connection.commit()\n",
    "cursor.close()\n",
    "connection.close()\n"
   ]
  }
 ],
 "metadata": {
  "kernelspec": {
   "display_name": "venv",
   "language": "python",
   "name": "python3"
  },
  "language_info": {
   "codemirror_mode": {
    "name": "ipython",
    "version": 3
   },
   "file_extension": ".py",
   "mimetype": "text/x-python",
   "name": "python",
   "nbconvert_exporter": "python",
   "pygments_lexer": "ipython3",
   "version": "3.11.4"
  }
 },
 "nbformat": 4,
 "nbformat_minor": 2
}
